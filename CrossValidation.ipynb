{
  "nbformat": 4,
  "nbformat_minor": 0,
  "metadata": {
    "colab": {
      "name": "CrossValidation.ipynb",
      "provenance": [],
      "authorship_tag": "ABX9TyP1W4baDi8yzLn3UmJs6twt",
      "include_colab_link": true
    },
    "kernelspec": {
      "name": "python3",
      "display_name": "Python 3"
    }
  },
  "cells": [
    {
      "cell_type": "markdown",
      "metadata": {
        "id": "view-in-github",
        "colab_type": "text"
      },
      "source": [
        "<a href=\"https://colab.research.google.com/github/yudhiesh1997/Approaching-Almost-Any-Machine-Learning-Problem/blob/master/CrossValidation.ipynb\" target=\"_parent\"><img src=\"https://colab.research.google.com/assets/colab-badge.svg\" alt=\"Open In Colab\"/></a>"
      ]
    },
    {
      "cell_type": "code",
      "metadata": {
        "id": "bAtfMLI8A0OW",
        "colab_type": "code",
        "colab": {}
      },
      "source": [
        "import pandas as pd\n",
        "import matplotlib.pyplot as plt\n",
        "import numpy as np "
      ],
      "execution_count": 1,
      "outputs": []
    },
    {
      "cell_type": "markdown",
      "metadata": {
        "id": "vVrxq7KCBaJD",
        "colab_type": "text"
      },
      "source": [
        "# Cross validation \n",
        "\n",
        "*Cross validation is a step in the process of building machine learning models which helps ensure that our models fit the data accurately and also ensures that we do not overfit.*"
      ]
    },
    {
      "cell_type": "code",
      "metadata": {
        "id": "RlAdxHgZBOcy",
        "colab_type": "code",
        "colab": {}
      },
      "source": [
        "wine = pd.read_csv(\"/content/winequality-red.csv\")"
      ],
      "execution_count": 35,
      "outputs": []
    },
    {
      "cell_type": "code",
      "metadata": {
        "id": "phYJWgo3BTp6",
        "colab_type": "code",
        "colab": {
          "base_uri": "https://localhost:8080/",
          "height": 401
        },
        "outputId": "596b622c-e651-4c19-9a1d-b5a9cbc7cb38"
      },
      "source": [
        "wine.head(10)"
      ],
      "execution_count": 36,
      "outputs": [
        {
          "output_type": "execute_result",
          "data": {
            "text/html": [
              "<div>\n",
              "<style scoped>\n",
              "    .dataframe tbody tr th:only-of-type {\n",
              "        vertical-align: middle;\n",
              "    }\n",
              "\n",
              "    .dataframe tbody tr th {\n",
              "        vertical-align: top;\n",
              "    }\n",
              "\n",
              "    .dataframe thead th {\n",
              "        text-align: right;\n",
              "    }\n",
              "</style>\n",
              "<table border=\"1\" class=\"dataframe\">\n",
              "  <thead>\n",
              "    <tr style=\"text-align: right;\">\n",
              "      <th></th>\n",
              "      <th>fixed acidity</th>\n",
              "      <th>volatile acidity</th>\n",
              "      <th>citric acid</th>\n",
              "      <th>residual sugar</th>\n",
              "      <th>chlorides</th>\n",
              "      <th>free sulfur dioxide</th>\n",
              "      <th>total sulfur dioxide</th>\n",
              "      <th>density</th>\n",
              "      <th>pH</th>\n",
              "      <th>sulphates</th>\n",
              "      <th>alcohol</th>\n",
              "      <th>quality</th>\n",
              "    </tr>\n",
              "  </thead>\n",
              "  <tbody>\n",
              "    <tr>\n",
              "      <th>0</th>\n",
              "      <td>7.4</td>\n",
              "      <td>0.70</td>\n",
              "      <td>0.00</td>\n",
              "      <td>1.9</td>\n",
              "      <td>0.076</td>\n",
              "      <td>11.0</td>\n",
              "      <td>34.0</td>\n",
              "      <td>0.9978</td>\n",
              "      <td>3.51</td>\n",
              "      <td>0.56</td>\n",
              "      <td>9.4</td>\n",
              "      <td>5</td>\n",
              "    </tr>\n",
              "    <tr>\n",
              "      <th>1</th>\n",
              "      <td>7.8</td>\n",
              "      <td>0.88</td>\n",
              "      <td>0.00</td>\n",
              "      <td>2.6</td>\n",
              "      <td>0.098</td>\n",
              "      <td>25.0</td>\n",
              "      <td>67.0</td>\n",
              "      <td>0.9968</td>\n",
              "      <td>3.20</td>\n",
              "      <td>0.68</td>\n",
              "      <td>9.8</td>\n",
              "      <td>5</td>\n",
              "    </tr>\n",
              "    <tr>\n",
              "      <th>2</th>\n",
              "      <td>7.8</td>\n",
              "      <td>0.76</td>\n",
              "      <td>0.04</td>\n",
              "      <td>2.3</td>\n",
              "      <td>0.092</td>\n",
              "      <td>15.0</td>\n",
              "      <td>54.0</td>\n",
              "      <td>0.9970</td>\n",
              "      <td>3.26</td>\n",
              "      <td>0.65</td>\n",
              "      <td>9.8</td>\n",
              "      <td>5</td>\n",
              "    </tr>\n",
              "    <tr>\n",
              "      <th>3</th>\n",
              "      <td>11.2</td>\n",
              "      <td>0.28</td>\n",
              "      <td>0.56</td>\n",
              "      <td>1.9</td>\n",
              "      <td>0.075</td>\n",
              "      <td>17.0</td>\n",
              "      <td>60.0</td>\n",
              "      <td>0.9980</td>\n",
              "      <td>3.16</td>\n",
              "      <td>0.58</td>\n",
              "      <td>9.8</td>\n",
              "      <td>6</td>\n",
              "    </tr>\n",
              "    <tr>\n",
              "      <th>4</th>\n",
              "      <td>7.4</td>\n",
              "      <td>0.70</td>\n",
              "      <td>0.00</td>\n",
              "      <td>1.9</td>\n",
              "      <td>0.076</td>\n",
              "      <td>11.0</td>\n",
              "      <td>34.0</td>\n",
              "      <td>0.9978</td>\n",
              "      <td>3.51</td>\n",
              "      <td>0.56</td>\n",
              "      <td>9.4</td>\n",
              "      <td>5</td>\n",
              "    </tr>\n",
              "    <tr>\n",
              "      <th>5</th>\n",
              "      <td>7.4</td>\n",
              "      <td>0.66</td>\n",
              "      <td>0.00</td>\n",
              "      <td>1.8</td>\n",
              "      <td>0.075</td>\n",
              "      <td>13.0</td>\n",
              "      <td>40.0</td>\n",
              "      <td>0.9978</td>\n",
              "      <td>3.51</td>\n",
              "      <td>0.56</td>\n",
              "      <td>9.4</td>\n",
              "      <td>5</td>\n",
              "    </tr>\n",
              "    <tr>\n",
              "      <th>6</th>\n",
              "      <td>7.9</td>\n",
              "      <td>0.60</td>\n",
              "      <td>0.06</td>\n",
              "      <td>1.6</td>\n",
              "      <td>0.069</td>\n",
              "      <td>15.0</td>\n",
              "      <td>59.0</td>\n",
              "      <td>0.9964</td>\n",
              "      <td>3.30</td>\n",
              "      <td>0.46</td>\n",
              "      <td>9.4</td>\n",
              "      <td>5</td>\n",
              "    </tr>\n",
              "    <tr>\n",
              "      <th>7</th>\n",
              "      <td>7.3</td>\n",
              "      <td>0.65</td>\n",
              "      <td>0.00</td>\n",
              "      <td>1.2</td>\n",
              "      <td>0.065</td>\n",
              "      <td>15.0</td>\n",
              "      <td>21.0</td>\n",
              "      <td>0.9946</td>\n",
              "      <td>3.39</td>\n",
              "      <td>0.47</td>\n",
              "      <td>10.0</td>\n",
              "      <td>7</td>\n",
              "    </tr>\n",
              "    <tr>\n",
              "      <th>8</th>\n",
              "      <td>7.8</td>\n",
              "      <td>0.58</td>\n",
              "      <td>0.02</td>\n",
              "      <td>2.0</td>\n",
              "      <td>0.073</td>\n",
              "      <td>9.0</td>\n",
              "      <td>18.0</td>\n",
              "      <td>0.9968</td>\n",
              "      <td>3.36</td>\n",
              "      <td>0.57</td>\n",
              "      <td>9.5</td>\n",
              "      <td>7</td>\n",
              "    </tr>\n",
              "    <tr>\n",
              "      <th>9</th>\n",
              "      <td>7.5</td>\n",
              "      <td>0.50</td>\n",
              "      <td>0.36</td>\n",
              "      <td>6.1</td>\n",
              "      <td>0.071</td>\n",
              "      <td>17.0</td>\n",
              "      <td>102.0</td>\n",
              "      <td>0.9978</td>\n",
              "      <td>3.35</td>\n",
              "      <td>0.80</td>\n",
              "      <td>10.5</td>\n",
              "      <td>5</td>\n",
              "    </tr>\n",
              "  </tbody>\n",
              "</table>\n",
              "</div>"
            ],
            "text/plain": [
              "   fixed acidity  volatile acidity  citric acid  ...  sulphates  alcohol  quality\n",
              "0            7.4              0.70         0.00  ...       0.56      9.4        5\n",
              "1            7.8              0.88         0.00  ...       0.68      9.8        5\n",
              "2            7.8              0.76         0.04  ...       0.65      9.8        5\n",
              "3           11.2              0.28         0.56  ...       0.58      9.8        6\n",
              "4            7.4              0.70         0.00  ...       0.56      9.4        5\n",
              "5            7.4              0.66         0.00  ...       0.56      9.4        5\n",
              "6            7.9              0.60         0.06  ...       0.46      9.4        5\n",
              "7            7.3              0.65         0.00  ...       0.47     10.0        7\n",
              "8            7.8              0.58         0.02  ...       0.57      9.5        7\n",
              "9            7.5              0.50         0.36  ...       0.80     10.5        5\n",
              "\n",
              "[10 rows x 12 columns]"
            ]
          },
          "metadata": {
            "tags": []
          },
          "execution_count": 36
        }
      ]
    },
    {
      "cell_type": "code",
      "metadata": {
        "id": "4sBMkZVpBVbZ",
        "colab_type": "code",
        "colab": {}
      },
      "source": [
        "# Map all the values of the quality from 0 to 5\n",
        "\n",
        "quality_mapping = {\n",
        "    3:0,\n",
        "    4:1,\n",
        "    5:2,\n",
        "    6:3,\n",
        "    7:4,\n",
        "    8:5\n",
        "}"
      ],
      "execution_count": 37,
      "outputs": []
    },
    {
      "cell_type": "code",
      "metadata": {
        "id": "ttdl238QClQ4",
        "colab_type": "code",
        "colab": {}
      },
      "source": [
        "wine.loc[:, \"quality\"] = wine.quality.map(quality_mapping)"
      ],
      "execution_count": 38,
      "outputs": []
    },
    {
      "cell_type": "code",
      "metadata": {
        "id": "IWzvX-vXCvBY",
        "colab_type": "code",
        "colab": {
          "base_uri": "https://localhost:8080/",
          "height": 230
        },
        "outputId": "18e79de9-4a34-4474-e8ab-da2f62ab8a6a"
      },
      "source": [
        "wine.quality"
      ],
      "execution_count": 39,
      "outputs": [
        {
          "output_type": "execute_result",
          "data": {
            "text/plain": [
              "0       2\n",
              "1       2\n",
              "2       2\n",
              "3       3\n",
              "4       2\n",
              "       ..\n",
              "1594    2\n",
              "1595    3\n",
              "1596    3\n",
              "1597    2\n",
              "1598    3\n",
              "Name: quality, Length: 1599, dtype: int64"
            ]
          },
          "metadata": {
            "tags": []
          },
          "execution_count": 39
        }
      ]
    },
    {
      "cell_type": "code",
      "metadata": {
        "id": "HZRhZzgTCzhD",
        "colab_type": "code",
        "colab": {}
      },
      "source": [
        "# Split the data into 1000 - train and 599 - test\n",
        "\n",
        "wine = wine.sample(frac=1).reset_index(drop=True)\n",
        "\n",
        "# first 1000 for train \n",
        "wine_train = wine.head(1000)\n",
        "\n",
        "# last 599 for test \n",
        "wine_test = wine.tail(599)"
      ],
      "execution_count": 40,
      "outputs": []
    },
    {
      "cell_type": "code",
      "metadata": {
        "id": "R3XnSlCTDbG0",
        "colab_type": "code",
        "colab": {
          "base_uri": "https://localhost:8080/",
          "height": 123
        },
        "outputId": "72c3d270-e2d3-4679-924b-093dee9326bf"
      },
      "source": [
        "# Try and train a Decision Tree Classifier on this \n",
        "\n",
        "from sklearn.tree import DecisionTreeClassifier\n",
        "from sklearn import metrics\n",
        "\n",
        "tree_clf = DecisionTreeClassifier(max_depth=3)\n",
        "\n",
        "# choose the columns to train on \n",
        "\n",
        "cols = [\"fixed acidity\", \"volatile acidity\", \"citric acid\", \"residual sugar\", \"chlorides\", \"free sulfur dioxide\", \"total sulfur dioxide\", \"density\", \"pH\", \"sulphates\", \"alcohol\"]\n",
        "\n",
        "tree_clf.fit(wine_train[cols], wine_train.quality)"
      ],
      "execution_count": 41,
      "outputs": [
        {
          "output_type": "execute_result",
          "data": {
            "text/plain": [
              "DecisionTreeClassifier(ccp_alpha=0.0, class_weight=None, criterion='gini',\n",
              "                       max_depth=3, max_features=None, max_leaf_nodes=None,\n",
              "                       min_impurity_decrease=0.0, min_impurity_split=None,\n",
              "                       min_samples_leaf=1, min_samples_split=2,\n",
              "                       min_weight_fraction_leaf=0.0, presort='deprecated',\n",
              "                       random_state=None, splitter='best')"
            ]
          },
          "metadata": {
            "tags": []
          },
          "execution_count": 41
        }
      ]
    },
    {
      "cell_type": "code",
      "metadata": {
        "id": "RIKHpGY4EJz4",
        "colab_type": "code",
        "colab": {
          "base_uri": "https://localhost:8080/",
          "height": 52
        },
        "outputId": "a952ce92-93c5-4d27-e5dd-72e262445616"
      },
      "source": [
        "# Test the accuracy of the model \n",
        "\n",
        "train_predictions = tree_clf.predict(wine_train[cols])\n",
        "test_predictions = tree_clf.predict(wine_test[cols])\n",
        "\n",
        "training_accuracy = metrics.accuracy_score(wine_train.quality, train_predictions)\n",
        "testing_accuracy = metrics.accuracy_score(wine_test.quality, test_predictions)\n",
        "print(\"Training accuracy :\", training_accuracy)\n",
        "print(\"Test accuracy     :\", testing_accuracy)"
      ],
      "execution_count": 42,
      "outputs": [
        {
          "output_type": "stream",
          "text": [
            "Training accuracy : 0.591\n",
            "Test accuracy     : 0.5459098497495827\n"
          ],
          "name": "stdout"
        }
      ]
    },
    {
      "cell_type": "code",
      "metadata": {
        "id": "jcJDwc8tFOXr",
        "colab_type": "code",
        "colab": {}
      },
      "source": [
        "# Plot the curve of the max depth vs the accuracy \n",
        "import seaborn as sns \n",
        "import matplotlib\n"
      ],
      "execution_count": 43,
      "outputs": []
    },
    {
      "cell_type": "code",
      "metadata": {
        "id": "51UlNJZfFyF-",
        "colab_type": "code",
        "colab": {
          "base_uri": "https://localhost:8080/",
          "height": 353
        },
        "outputId": "5f437d65-99cf-47a4-c90f-730792af000e"
      },
      "source": [
        "matplotlib.rc(\"xtick\", labelsize=20)\n",
        "matplotlib.rc(\"ytick\", labelsize=20)\n",
        "\n",
        "%matplotlib inline \n",
        "train_accuracies = [0.5]\n",
        "test_accuracies = [0.5]\n",
        "cols = [  'fixed acidity',  'volatile acidity',  'citric acid',  'residual sugar',  'chlorides',  'free sulfur dioxide',  'total sulfur dioxide',  'density',  'pH',  'sulphates', 'alcohol']\n",
        "\n",
        "for depth in range(1,25):\n",
        "  clf = DecisionTreeClassifier(max_depth=depth)\n",
        "  #fit the model on given features  \n",
        "  clf.fit(wine_train[cols], wine_train.quality)  \n",
        "  #create training & test predictions  \n",
        "  train_predictions = clf.predict(wine_train[cols])  \n",
        "  test_predictions = clf.predict(wine_test[cols])  \n",
        "  #calculate training & test accuracies  \n",
        "  train_accuracy = metrics.accuracy_score(wine_train.quality, train_predictions)\n",
        "  test_accuracy = metrics.accuracy_score(wine_test.quality, test_predictions)  \n",
        "  #append accuracies  \n",
        "  train_accuracies.append(train_accuracy)  \n",
        "  test_accuracies.append(test_accuracy)  \n",
        "  #create two plots using matplotlib  and seaborn  \n",
        "plt.figure(figsize=(10, 5))  \n",
        "sns.set_style(\"whitegrid\")  \n",
        "plt.plot(train_accuracies, label=\"train accuracy\")  \n",
        "plt.plot(test_accuracies, label=\"test accuracy\")  \n",
        "plt.legend(loc=\"upper left\", prop={'size': 15})  \n",
        "plt.xticks(range(0, 26, 5))  \n",
        "plt.xlabel(\"max_depth\", size=20)  \n",
        "plt.ylabel(\"accuracy\", size=20)  \n",
        "plt.show() "
      ],
      "execution_count": 46,
      "outputs": [
        {
          "output_type": "display_data",
          "data": {
            "image/png": "[encoded data removed]",
            "text/plain": [
              "<Figure size 720x360 with 1 Axes>"
            ]
          },
          "metadata": {
            "tags": [],
            "needs_background": "light"
          }
        }
      ]
    },
    {
      "cell_type": "markdown",
      "metadata": {
        "id": "MW37bFTtKYN-",
        "colab_type": "text"
      },
      "source": [
        "The best score for the test data is obtained when *max_depth* has a value of 14.\n",
        "\n",
        "As the value of this parameter keeps increasing, the test accuracy remains the same.\n",
        "\n",
        "It means that the simple decision tree model keeps learning about the training data better and better with an increase in *max_depth* but the performance on test data does not improve at all.\n",
        "\n",
        "*This is called overfitting*\n",
        "\n",
        "The model fit perfectly on the training set and performs poorly when it comes to the test set. \n",
        "\n",
        "The model will learn the training data but will not generalize well to the test set. \n",
        "\n",
        "\n",
        "*Another definition:*\n",
        "When the test loss increases as we keep improving training loss. "
      ]
    },
    {
      "cell_type": "code",
      "metadata": {
        "id": "1g0UWzl0G_Wz",
        "colab_type": "code",
        "colab": {}
      },
      "source": [
        "# K-Fold Cross Validation\n",
        "# Works for any dataset\n",
        "# For images, create a CSV with image id, image location and image label \n",
        "\n",
        "from sklearn import model_selection\n",
        "\n",
        "df = pd.read_csv(\"train.csv\")\n",
        "\n",
        "# we create a new column called kfold and fill it with -1 \n",
        "df[\"kfold\"] = -1\n",
        "\n",
        "# the next step is to randomize the rows of the data\n",
        "kf = model_selection.KFold(n_splits=5)\n",
        "\n",
        "# fill the new kfold column \n",
        "for fold, (trn_, val) in enumerate(kf.split(X=df)):\n",
        "  df.loc[val_, \"kfold\"] = fold\n",
        "\n",
        "# save the new csv with the kfold column \n",
        "df.to_csv(\"train_folds.csv\", index=False)\n"
      ],
      "execution_count": null,
      "outputs": []
    },
    {
      "cell_type": "markdown",
      "metadata": {
        "id": "tguu7prkPNeG",
        "colab_type": "text"
      },
      "source": [
        "## Stratified KFold Sampling \n",
        "\n",
        "Ensures that the data is divided evenly based on the distribution of samples"
      ]
    },
    {
      "cell_type": "code",
      "metadata": {
        "id": "3-IZA-UTO6Th",
        "colab_type": "code",
        "colab": {}
      },
      "source": [
        "from sklearn.model_selection import StratifiedKFold\n",
        "\n",
        "df = pd.read_csv(\"train.csv\")\n",
        "\n",
        "df[\"kfold\"] = -1\n",
        "\n",
        "df = df.sample(frac=1).reset_index(drop=True)\n",
        "\n",
        "# fetch target\n",
        "y = df.target.values\n",
        "\n",
        "kf = StratifiedKFold(n_splits=5)\n",
        "\n",
        "# fill the new kfold column \n",
        "for f in (t_, v_) in enumerate(kf.split(X=df, y=y)):\n",
        "  df.loc[v_, \"kfold\"] = f\n",
        "\n",
        "df.to_csv(\"train_folds_csv\", index=False)\n"
      ],
      "execution_count": null,
      "outputs": []
    },
    {
      "cell_type": "code",
      "metadata": {
        "id": "p339lPrPQMZd",
        "colab_type": "code",
        "colab": {
          "base_uri": "https://localhost:8080/",
          "height": 314
        },
        "outputId": "7eb7c6da-88ce-45bc-f9cb-154e970ba891"
      },
      "source": [
        "# Lets look at the distribution of the wine dataset\n",
        "\n",
        "b = sns.countplot(x=\"quality\", data=wine)\n",
        "b.set_xlabel(\"quality\", fontsize=20)\n",
        "b.set_ylabel(\"count\", fontsize=20)"
      ],
      "execution_count": 52,
      "outputs": [
        {
          "output_type": "execute_result",
          "data": {
            "text/plain": [
              "Text(0, 0.5, 'count')"
            ]
          },
          "metadata": {
            "tags": []
          },
          "execution_count": 52
        },
        {
          "output_type": "display_data",
          "data": {
            "image/png": "[encoded data removed]",
            "text/plain": [
              "<Figure size 432x288 with 1 Axes>"
            ]
          },
          "metadata": {
            "tags": []
          }
        }
      ]
    },
    {
      "cell_type": "markdown",
      "metadata": {
        "id": "7FgZ13lcRClv",
        "colab_type": "text"
      },
      "source": [
        "Suppose we have a million samples. A 5 fold cross-validation would mean training on 800k samples and validation on 200k. \n",
        "\n",
        "This can be very expensive for a dataset of this size so in this case you should use **hold-out based validation**.\n",
        "\n",
        "Hold-out works the same as k-fold but instead you create 10 folds instead of 5 and keep one of those folds as hold-out.\n",
        "\n",
        "Hold-out is also used very frequently with **time-series data.**\n",
        "Say you are tasked with predicting the sales for a store in 2020 and you have data from 2015-2019. In this case you can select all the data from 2019 as hold out and the rest is used to train the model. "
      ]
    },
    {
      "cell_type": "markdown",
      "metadata": {
        "id": "60LvGSh9WkxP",
        "colab_type": "text"
      },
      "source": [
        "In many cases, you have to deal with small datasets and creating big validation sets means losing a lot of data for the model to learn. \n",
        "\n",
        "Here it is best to use a type of K-Fold cross-validation where the k=N, where N is the number of samples in the dataset. "
      ]
    },
    {
      "cell_type": "markdown",
      "metadata": {
        "id": "_j6JfkfVXDcv",
        "colab_type": "text"
      },
      "source": [
        "## Stratified k-fold for a regression problem \n",
        "\n",
        "You have to divide the target into bins and then uyou can use stratified k-fold in the same way as for classification problems. \n",
        "\n",
        "If you have a lot of samples > 10k, > 100k then just use 10-20 bins."
      ]
    },
    {
      "cell_type": "code",
      "metadata": {
        "id": "ldusfekfQdzJ",
        "colab_type": "code",
        "colab": {}
      },
      "source": [
        "# stratified k-fold for regression \n",
        "def create_folds(data):  \n",
        "  #we create a new column called kfold and fill it with -1  \n",
        "  data[\"kfold\"] = -1  \n",
        "  #the next step is to randomize the rows of the data  \n",
        "  data = data.sample(frac=1).reset_index(drop=True)  \n",
        "  #calculate the number of bins by Sturge's rule  \n",
        "  #I take the floor of the value, you can also  \n",
        "  #just round it  \n",
        "  num_bins = np.floor(1 + np.log2(len(data)))  \n",
        "  #bin targets  \n",
        "  data.loc[:, \"bins\"] = pd.cut(  data[\"target\"], bins=num_bins, labels=False  )  \n",
        "  #initiate the kfold class from model_selection module  \n",
        "  kf = model_selection.StratifiedKFold(n_splits=5)  \n",
        "  #fill the new kfold column  \n",
        "  #note that, instead of targets, we use bins!  \n",
        "  for f, (t_, v_) in enumerate(kf.split(X=data, y=data.bins.values)):  \n",
        "    data.loc[v_, 'kfold'] = f  \n",
        "    #drop the bins column  \n",
        "    data = data.drop(\"bins\", axis=1)  \n",
        "    #return dataframe with folds  \n",
        "    return data  \n",
        "\n",
        "if  __name__  ==  \"__main__\":  \n",
        "#we create a sample dataset with 15000 samples  \n",
        "#and 100 features and 1 target  \n",
        "  X, y = datasets.make_regression(  n_samples=15000, n_features=100, n_targets=1  )  \n",
        "  #create a dataframe out of our numpy arrays  \n",
        "  df = pd.DataFrame(  X,  columns=[f\"f_{i}\" for i in range(X.shape[1])]  )  \n",
        "  df.loc[:, \"target\"] = y  \n",
        "  #create folds  \n",
        "  df = create_folds(df) "
      ],
      "execution_count": null,
      "outputs": []
    },
    {
      "cell_type": "markdown",
      "metadata": {
        "id": "rnFVmUVGYWHh",
        "colab_type": "text"
      },
      "source": [
        "Cross-validation is the first and most essential step when it comes to building a machine learning model. If you want to do feature engineering, split your data first.\n",
        "if you're going to build models, split the data first. \n",
        "\n",
        "If you have *a good cross-validation scheme in which validation data is representative of training and real-world data*, you will be able to build a good machine learning model which is highly generalizable. \n",
        "\n",
        "\n",
        "\n"
      ]
    },
    {
      "cell_type": "code",
      "metadata": {
        "id": "hvVs_xhJY-9j",
        "colab_type": "code",
        "colab": {}
      },
      "source": [
        ""
      ],
      "execution_count": null,
      "outputs": []
    }
  ]
}